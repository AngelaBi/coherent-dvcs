{
 "cells": [
  {
   "cell_type": "code",
   "execution_count": null,
   "metadata": {},
   "outputs": [],
   "source": [
    "//---- imports for HIPO4 library\n",
    "import org.jlab.jnp.hipo4.io.*;\n",
    "import org.jlab.jnp.hipo4.data.*;\n",
    "//---- imports for GROOT library\n",
    "import org.jlab.groot.data.*;\n",
    "import org.jlab.groot.graphics.*;\n",
    "//---- imports for PHYSICS library\n",
    "import org.jlab.jnp.physics.*;\n",
    "import org.jlab.jnp.reader.*;\n",
    "\n",
    "\n",
    "HipoReader reader = new HipoReader(); // Create a reader obejct\n",
    "reader.open(\"../../data/out_6489_2xx_3xx.hipo\"); // open a file"
   ]
  },
  {
   "cell_type": "code",
   "execution_count": null,
   "metadata": {},
   "outputs": [],
   "source": [
    "Event     event = new Event();\n",
    "Bank  particles = new Bank(reader.getSchemaFactory().getSchema(\"REC::Particle\"));"
   ]
  },
  {
   "cell_type": "code",
   "execution_count": null,
   "metadata": {},
   "outputs": [],
   "source": [
    "EventFilter  nDVCSFilter = new EventFilter(\"11:2112:22:Xn:X-\");\n",
    "EventFilter  pDVCSFilter = new EventFilter(\"11:2212:22:Xn:X-\");\n",
    "EventFilter  cohDVCSFilter = new EventFilter(\"11:45:22:Xn:X-\");\n",
    "EventFilter  elecFilter = new EventFilter(\"11:Xn:X+:X-\");"
   ]
  },
  {
   "cell_type": "code",
   "execution_count": null,
   "metadata": {},
   "outputs": [],
   "source": [
    "reader.getEvent(event,0); //Reads the first event and resets to the begining of the file\n",
    "int times=0;\n",
    "LorentzVector  vBeam   = new LorentzVector(0.0,0.0,10.6,10.6);\n",
    "LorentzVector  vTarget = new LorentzVector(0.0,0.0,0.0,0.938);\n",
    "LorentzVector  velectron = new LorentzVector();\n",
    "Particle  proton = new Particle();\n",
    "Particle neutron = new Particle();\n",
    "Particle deuteron = new Particle();\n",
    "Particle electron = new Particle();\n",
    "LorentzVector       vW = new LorentzVector();\n",
    "LorentzVector      vQ2 = new LorentzVector();\n",
    "double Xbj;"
   ]
  },
  {
   "cell_type": "code",
   "execution_count": null,
   "metadata": {},
   "outputs": [],
   "source": [
    "// histos\n",
    "H1F W = new H1F(\"W\" ,100, 0.5, 4.0);\n",
    "W.setTitleX(\"W [GeV]\");\n",
    "H1F Q2 = new H1F(\"Q2\",100, 0.1, 4.0);\n",
    "Q2.setTitleX(\"Q^2 [GeV/c^2]\");\n",
    "H2F WvsQ2 = new H2F(\"W vs Q2\", \"W vs Q2\", 100,0,5,100,0,10);\n",
    "WvsQ2.setTitleX(\"W [GeV]\");\n",
    "WvsQ2.setTitleY(\"Q^2 [GeV/c^2]\");\n",
    "H2F ThvsPhi = new H2F(\"Theta vs Phi\",\"Theta vs Phi\",100,-180,180,100,0,180);\n",
    "ThvsPhi.setTitleX(\"Phi [Degrees]\");\n",
    "ThvsPhi.setTitleY(\"Theta [Degrees]\");\n",
    "H2F Q2vsXbj = new H2F(\"Q2 vs Xbj\",\"Q2 vs Xbj\",100,0,10,100,0,1);\n",
    "Q2vsXbj.setTitleX(\"Q^2 [GeV/c^2]\");\n",
    "Q2vsXbj.setTitleY(\"Xbj\");"
   ]
  },
  {
   "cell_type": "code",
   "execution_count": null,
   "metadata": {},
   "outputs": [],
   "source": [
    "while(reader.hasNext()==true){\n",
    "\n",
    "reader.nextEvent(event);\n",
    "event.read(particles);\n",
    "    \n",
    "PhysicsEvent physEvent = DataManager.getPhysicsEvent(10.6,particles);\n",
    "if(particles.getRows()>0){\n",
    "if(elecFilter.isValid(physEvent)==true){\n",
    "\n",
    "electron = physEvent.getParticleByPid(11,0);\n",
    "\n",
    "        velectron.setPxPyPzM(electron.px(),electron.py(),electron.pz(),0.0005);\n",
    "    //velectron.setPxPyPzM(particles.getFloat(\"px\",0),particles.getFloat(\"py\",0),particles.getFloat(\"pz\",0),0.0005);\n",
    "        vW.copy(vBeam);\n",
    "        //vW.add(vTarget).sub(electron.vector());\n",
    "    vW.add(vTarget).sub(velectron);\n",
    "    W.fill(vW.mass());\n",
    "        \n",
    "if(pDVCSFilter.isValid(physEvent)==true){\n",
    "    \n",
    "proton = physEvent.getParticleByPid(2212,0);\n",
    "        vQ2.copy(vBeam);\n",
    "        //vQ2.sub(electron.vector());\n",
    "    vQ2.sub(velectron);\n",
    "        //Xbj = (-vQ2.mass2())/(2*proton.mass()*(vBeam.p()-electron.vector().p()));\n",
    "            Xbj = (-vQ2.mass2())/(2*proton.mass()*(vBeam.p()-velectron.p()));\n",
    "    \n",
    "   //pXbj = (-vpQ2.mass2())/(2*proton.mass()*(vBeam.p()-electron.p()));\n",
    "   //     pQ2vsXbj.fill(-vpQ2.mass2(),pXbj);\n",
    "    \n",
    "\n",
    "        Q2.fill(-vQ2.mass2());\n",
    "        WvsQ2.fill(vW.mass(),-vQ2.mass2());\n",
    "        Q2vsXbj.fill(-vQ2.mass2(),Xbj);   \n",
    "    \n",
    "//neutron = physEvent.getParticleByPid(2112,0);\n",
    "//ThvsPhi.fill(neutron.phi()*180./Math.PI,neutron.theta()*180./Math.PI);\n",
    "    \n",
    "//proton = physEvent.getParticleByPid(2212,0);\n",
    "//ThvsPhi.fill(proton.phi()*180./Math.PI,proton.theta()*180./Math.PI);\n",
    "\n",
    "//deuteron = physEvent.getParticleByPid(45,0);\n",
    "//ThvsPhi.fill(deuteron.phi()*180/Math.PI,deuteron.theta()*180./Math.PI);\n",
    "\n",
    "\n",
    "    \n",
    "//times++;\n",
    "//System.out.println(\"loop has looped \" + times + \"times\");\n",
    "}\n",
    "}\n",
    "}\n",
    "}"
   ]
  },
  {
   "cell_type": "code",
   "execution_count": null,
   "metadata": {
    "scrolled": false
   },
   "outputs": [],
   "source": [
    "EmbeddedCanvas ec = new EmbeddedCanvas(800,400);\n",
    "ec.divide(2,1);\n",
    "ec.getPad(0).getAxisZ().setLog(true);\n",
    "ec.cd(0).draw(WvsQ2);\n",
    "ec.getPad(1).getAxisZ().setLog(true);\n",
    "ec.cd(1).draw(Q2vsXbj);\n",
    "//ec.cd(2).draw(ThvsPhi);\n",
    "//ec.cd(3).draw();\n",
    "\n",
    "ec.getScreenShot();"
   ]
  },
  {
   "cell_type": "code",
   "execution_count": null,
   "metadata": {},
   "outputs": [],
   "source": []
  },
  {
   "cell_type": "code",
   "execution_count": null,
   "metadata": {},
   "outputs": [],
   "source": []
  }
 ],
 "metadata": {
  "kernelspec": {
   "display_name": "Java",
   "language": "java",
   "name": "java"
  },
  "language_info": {
   "codemirror_mode": "java",
   "file_extension": ".jshell",
   "mimetype": "text/x-java-source",
   "name": "Java",
   "pygments_lexer": "java",
   "version": "11.0.3+1-Debian-1bpo91"
  }
 },
 "nbformat": 4,
 "nbformat_minor": 2
}
