{
 "cells": [
  {
   "cell_type": "code",
   "execution_count": 96,
   "metadata": {},
   "outputs": [
    {
     "name": "stdout",
     "output_type": "stream",
     "text": [
      "reader:: *****>>>>> openning file : /home/justind/DATA/out_6489_2xx_3xx.hipo\n",
      "reader:: ***** dictionary entries :            3\n",
      "scanning trailer : # bytes = 11128\n",
      "reader:: ***** number of  records :          347\n",
      "reader:: ***** number of  events  :      5860090\n"
     ]
    }
   ],
   "source": [
    "//---- imports for HIPO4 library\n",
    "import org.jlab.jnp.hipo4.io.*;\n",
    "import org.jlab.jnp.hipo4.data.*;\n",
    "//---- imports for GROOT library\n",
    "import org.jlab.groot.data.*;\n",
    "import org.jlab.groot.graphics.*;\n",
    "//---- imports for PHYSICS library\n",
    "import org.jlab.jnp.physics.*;\n",
    "import org.jlab.jnp.reader.*;\n",
    "\n",
    "\n",
    "HipoReader reader = new HipoReader(); // Create a reader obejct\n",
<<<<<<< HEAD
    "reader.open(\"/home/justind/DATA/out_6489_2xx_3xx.hipo\"); // open a file"
=======
    "//reader.open(\"/home/jnp/data/out_6489_2xx.hipo\"); // open a file\n",
    "reader.open(\"/Users/biselli/Data/clas12/out_6489_2xx.hipo\"); // open a file"
>>>>>>> 87774b4440a06a317b5e592d39d19ec8394823a3
   ]
  },
  {
   "cell_type": "code",
   "execution_count": 97,
   "metadata": {},
   "outputs": [],
   "source": [
    "Event     event = new Event();\n",
    "Bank  particles = new Bank(reader.getSchemaFactory().getSchema(\"REC::Particle\"));"
   ]
  },
  {
   "cell_type": "code",
   "execution_count": 98,
   "metadata": {},
   "outputs": [],
   "source": [
    "EventFilter  nDVCSFilter = new EventFilter(\"11:2112:22:Xn:X-\");\n",
    "EventFilter  pDVCSFilter = new EventFilter(\"11:2212:22:Xn:X-\");\n",
    "EventFilter  cohDVCSFilter = new EventFilter(\"11:45:22:Xn:X-\");\n",
    "EventFilter  elecFilter = new EventFilter(\"11:Xn:X+:X-\");"
   ]
  },
  {
   "cell_type": "code",
   "execution_count": 99,
   "metadata": {},
   "outputs": [],
   "source": [
    "reader.getEvent(event,0); //Reads the first event and resets to the begining of the file\n",
    "int times=0;\n",
    "LorentzVector  vBeam   = new LorentzVector(0.0,0.0,10.2,10.2);\n",
    "LorentzVector  vTarget = new LorentzVector(0.0,0.0,0.0,1.878);\n",
    "LorentzVector  velectron = new LorentzVector();\n",
    "LorentzVector  vtmp = new LorentzVector();\n",
    "LorentzVector  vproton = new LorentzVector();\n",
    "LorentzVector  vphoton = new LorentzVector();\n",
    "LorentzVector  vdeuteron = new LorentzVector();\n",
    "LorentzVector  vW = new LorentzVector();\n",
    "LorentzVector  vQ2 = new LorentzVector();\n",
    "LorentzVector  vMMass = new LorentzVector();\n",
    "LorentzVector  vMMom = new LorentzVector();\n",
    "LorentzVector  vinit = new LorentzVector();\n",
    "vinit.copy(vBeam);\n",
    "vinit.add(vTarget);\n",
    "Particle  proton = new Particle();\n",
    "Particle neutron = new Particle();\n",
    "Particle deuteron = new Particle();\n",
    "Particle electron = new Particle();\n",
    "Particle photon = new Particle();\n",
    "double Xbj;\n",
    "double el_en_max=0;\n",
    "double ph_en_max=0;\n",
    "double d_en_max=0;\n",
    "int nelec=0;\n",
    "int ndvcs=0;\n",
    "int nphot=0;\n",
    "int ndeut=0;\n",
    "int ncut=0;\n",
    "int ne=-1;\n",
    "int ng=-1;\n",
    "int nd=-1;\n",
    "double MNUC=1.878;\n",
    "int PIDNUC=45;\n",
<<<<<<< HEAD
    "double angleG=0;"
=======
    "double angleG=0;\n",
    "System.out.println(vBeam.vect().x() + \", \" + vBeam.vect().y() + \", \" + vBeam.vect().z());\n",
    "System.out.println(vMMom.vect().x() + \", \" + vMMom.vect().y() + \", \" + vMMom.vect().z());\n",
    "System.out.println(vinit.vect().x() + \", \" + vinit.vect().y() + \", \" + vinit.vect().z());"
>>>>>>> 87774b4440a06a317b5e592d39d19ec8394823a3
   ]
  },
  {
   "cell_type": "code",
   "execution_count": 100,
   "metadata": {},
   "outputs": [],
   "source": [
    "// histos\n",
    "H1F W = new H1F(\"W\" ,100, 0, 10.0);\n",
    "W.setTitleX(\"W [GeV]\");\n",
    "H1F Q2 = new H1F(\"Q2\",100, 0.1, 4.0);\n",
    "Q2.setTitleX(\"Q^2 [GeV/c^2]\");\n",
    "H1F MMass = new H1F(\"MMass\",100,-30,30);\n",
    "MMass.setTitleX(\"Missing Mass Squared\");\n",
    "H1F MMom = new H1F(\"MMass\",100,-30,30);\n",
    "MMom.setTitleX(\"Missing Momentum\");\n",
    "H1F MMomx = new H1F(\"MMomx\",100,-5,5);\n",
    "MMomx.setTitleX(\"Missing X Momentum\");\n",
    "H1F MMomy = new H1F(\"MMomy\",100,-5,5);\n",
    "MMomy.setTitleX(\"Missing Y Momentum\");\n",
    "H1F MMomz = new H1F(\"MMomz\",100,-10,15);\n",
    "MMomz.setTitleX(\"Missing Z Momentum\");\n",
    "H2F WvsQ2 = new H2F(\"W vs Q2\", \"Deuteron DVCS W vs Q2 before cuts\", 100,0,7,100,0,10);\n",
    "WvsQ2.setTitleX(\"W [GeV]\");\n",
    "WvsQ2.setTitleY(\"Q^2 [GeV/c^2]\");\n",
    "H2F ThvsPhi = new H2F(\"Theta vs Phi\",\"Deuteron Theta vs Phi before cuts\",100,-180,180,100,0,180);\n",
    "ThvsPhi.setTitleX(\"Phi [Degrees]\");\n",
    "ThvsPhi.setTitleY(\"Theta [Degrees]\");\n",
    "H2F Q2vsXbj = new H2F(\"Q2 vs Xbj\",\"Deuteron DVCS Q2 vs Xbj\",100,0,10,100,0,1);\n",
    "Q2vsXbj.setTitleX(\"Q^2 [GeV/c^2]\");\n",
    "Q2vsXbj.setTitleY(\"Xbj\");\n",
    "H2F MMvsMpz = new H2F(\"Missing Mass vs Missing Z Momentum\",\"Missing Mass vs Missing Z Momentum\",100,-2,2,100,-10,10);\n",
    "MMvsMpz.setTitleX(\"Missing Mass\");  \n",
    "MMvsMpz.setTitleY(\"Missing Z Momentum\");\n",
    "H2F MpxvsMpz = new H2F(\"Missing X Momentum vs Missing Z Momentum\",\"Missing X Momentum vs Missing Z Momentum\",100,-2,2,100,-10,10);\n",
    "MpxvsMpz.setTitleX(\"Missing X Momentum\");\n",
    "MpxvsMpz.setTitleY(\"Missing Z Momentum\");\n"
   ]
  },
  {
   "cell_type": "code",
   "execution_count": 101,
   "metadata": {},
   "outputs": [
    {
     "name": "stdout",
     "output_type": "stream",
     "text": [
      "total dvcs events: 278255\n"
     ]
    }
   ],
   "source": [
    "//with loops\n",
    "while(reader.hasNext()==true){\n",
    "    reader.nextEvent(event);\n",
    "    event.read(particles);\n",
    "    el_en_max=0;\n",
    "    ph_en_max=0;\n",
    "    d_en_max=0;\n",
    "    nelec=0;\n",
    "    ndeut=0;\n",
    "    nphot=0;\n",
    "    if(particles.getRows()>3){\n",
    "        for(int npart=0; npart<particles.getRows(); npart++){\n",
    "        int pid = particles.getInt(\"pid\", npart);\n",
    "        if(pid==11){ \n",
    "            nelec++;\n",
    "            vtmp.setPxPyPzM(particles.getFloat(\"px\",npart),\n",
    "                                 particles.getFloat(\"py\",npart),\n",
    "                                 particles.getFloat(\"pz\",npart),\n",
    "                                 0.0005);\n",
    "            if(vtmp.e()>el_en_max)ne=npart;\n",
    "        }\n",
    "        else if(pid==22){\n",
    "            nphot++;\n",
    "            vtmp.setPxPyPzM(particles.getFloat(\"px\",npart),\n",
    "                                 particles.getFloat(\"py\",npart),\n",
    "                                 particles.getFloat(\"pz\",npart),\n",
    "                                 0.0);\n",
    "            if(vtmp.e()>ph_en_max)ng=npart;\n",
    "            \n",
    "        }\n",
    "        else if(pid==PIDNUC){\n",
    "            ndeut++;\n",
    "            vtmp.setPxPyPzM(particles.getFloat(\"px\",npart),\n",
    "                                 particles.getFloat(\"py\",npart),\n",
    "                                 particles.getFloat(\"pz\",npart),\n",
    "                                 MNUC);\n",
    "            if(vtmp.e()>d_en_max)nd=npart;\n",
    "            \n",
    "        }   \n",
    "    }\n",
    "    if(ndeut>=1 && nelec>=1 && nphot>=1){\n",
    "        velectron.setPxPyPzM(particles.getFloat(\"px\",ne),\n",
    "                                 particles.getFloat(\"py\",ne),\n",
    "                                 particles.getFloat(\"pz\",ne),\n",
    "                                 0.0005);\n",
    "        vW.copy(vBeam);\n",
    "        vW.add(vTarget).sub(velectron);\n",
    "       \n",
    "        vQ2.copy(vBeam);\n",
    "        vQ2.sub(velectron);  \n",
    "        vphoton.setPxPyPzM( particles.getFloat(\"px\",ng),\n",
    "                                particles.getFloat(\"py\",ng),\n",
    "                                particles.getFloat(\"pz\",ng),\n",
    "                                0.0);\n",
    "        \n",
    "        \n",
    "        vdeuteron.setPxPyPzM(particles.getFloat(\"px\",nd),\n",
    "                                particles.getFloat(\"py\",nd),\n",
    "                                particles.getFloat(\"pz\",nd),\n",
    "                                MNUC);\n",
    "    \n",
    "        //if(-vQ2.mass2()>1 && vW.mass()>2 && (vphoton.theta()*180./Math.PI)<5 && vphoton.e()>1){\n",
    "            \n",
    "            ndvcs++;\n",
    "            ThvsPhi.fill(vdeuteron.phi()*180./Math.PI,vdeuteron.theta()*180./Math.PI);\n",
    "            Xbj = (-vQ2.mass2())/(2*0.938*(vBeam.p()-velectron.p()));\n",
    "            Q2vsXbj.fill(-vQ2.mass2(),Xbj); \n",
    "            \n",
    "            W.fill(vW.mass());\n",
    "            Q2.fill(-vQ2.mass2());\n",
    "            WvsQ2.fill(vW.mass(),-vQ2.mass2());\n",
<<<<<<< HEAD
    "            vMMass.copy(vBeam);\n",
    "            vMMass.add(vTarget).sub(velectron).sub(vdeuteron).sub(vphoton);\n",
=======
    "            vMMass.copy(vinit);\n",
    "            vMMass.sub(velectron);\n",
    "            vMMass.sub(vdeuteron);\n",
    "                vMMass.sub(vphoton);\n",
>>>>>>> 87774b4440a06a317b5e592d39d19ec8394823a3
    "            MMass.fill(vMMass.mass2());\n",
    "            \n",
    "            //angleG = Math.acos((vphoton.vect().dot((vinit.sub(velectron).sub(vdeuteron)).vect())) / (vphoton.vect().mag() * (vinit.sub(velectron).sub(vdeuteron)).vect().mag()))*180./Math.PI;\n",
    "            \n",
<<<<<<< HEAD
    "            \n",
    "           // if(vMMass.mass2()>-1 && vMMass.mass2()<1){\n",
    "            vMMom.copy(vBeam);\n",
    "            vMMom.add(vTarget).sub(velectron).sub(vdeuteron).sub(vphoton);\n",
=======
    "           /* if(ndvcs%1000==0){\n",
    "                //System.out.println(angleG);\n",
    "                //System.out.println(vphoton.vect().theta());\n",
    "                //System.out.println(vTarget.vect().theta());\n",
    "                //System.out.println(vinit.sub(velectron).sub(vdeuteron).vect().theta());\n",
    "                System.out.println(vBeam.vect().x() + \", \" + vBeam.vect().y() + \", \" + vBeam.vect().z());\n",
    "                System.out.println(vinit.vect().x() + \", \" + vinit.vect().y() + \", \" + vinit.vect().z());\n",
    "            }\n",
    "            */\n",
    "            //if(vMMass.mass2()>-1 && vMMass.mass2()<1 && (vphoton.theta()*180./Math.PI)<5){\n",
    "            vMMom.copy(vinit);\n",
    "            vMMom.sub(velectron);\n",
    "            vMMom.sub(vdeuteron);\n",
    "            vMMom.sub(vphoton);\n",
>>>>>>> 87774b4440a06a317b5e592d39d19ec8394823a3
    "            MMom.fill(vMMom.p());\n",
    "            MMomx.fill(vMMom.px());\n",
    "            MMomy.fill(vMMom.py());\n",
    "            MMomz.fill(vMMom.pz());\n",
    "            MMvsMpz.fill(vMMass.mass2(),vMMom.pz());\n",
    "            MpxvsMpz.fill(vMMom.px(),vMMom.pz());\n",
    "               // }\n",
    "          //  }\n",
    "        }\n",
    "    }\n",
<<<<<<< HEAD
=======
    "                //if(ndvcs%1000==0){\n",
    "                //System.out.println(angleG);\n",
    "                //System.out.println(vphoton.vect().theta());\n",
    "                //System.out.println(vTarget.vect().theta());\n",
    "                //System.out.println(vinit.sub(velectron).sub(vdeuteron).vect().theta());\n",
    "                System.out.println(\"vBeam \"+vBeam.vect().x() + \", \" + vBeam.vect().y() + \", \" + vBeam.vect().z());\n",
    "                System.out.println(vinit.vect().x() + \", \" + vinit.vect().y() + \", \" + vinit.vect().z());\n",
    "            //}\n",
>>>>>>> 87774b4440a06a317b5e592d39d19ec8394823a3
    "}\n",
    "    \n",
    "System.out.println(\"total dvcs events: \" + ndvcs);\n"
   ]
  },
  {
   "cell_type": "code",
   "execution_count": 102,
   "metadata": {
    "scrolled": false
   },
   "outputs": [
    {
     "data": {
      "image/png": "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",
      "text/plain": [
       "BufferedImage@5fabaa7b: type = 7 ColorModel: #pixelBits = 32 numComponents = 4 color space = java.awt.color.ICC_ColorSpace@5b2b915 transparency = 3 has alpha = true isAlphaPre = true ByteInterleavedRaster: width = 1200 height = 600 #numDataElements 4 dataOff[0] = 3"
      ]
     },
     "execution_count": 102,
     "metadata": {},
     "output_type": "execute_result"
    }
   ],
   "source": [
    "//with loops\n",
    "EmbeddedCanvas ec = new EmbeddedCanvas(1200,600);\n",
    "//ec.divide(3,1);\n",
    "//ec.getPad(0).getAxisZ().setLog(true);\n",
    "//ec.cd(0).draw(WvsQ2);\n",
    "//ec.getPad(1).getAxisZ().setLog(true);\n",
    "//ec.cd(1).draw(Q2vsXbj);\n",
    "//ec.cd(2).draw(ThvsPhi);\n",
    "//ec.cd(0).draw(MMass);\n",
    "ec.cd(0).draw(MMomx);\n",
    "ec.cd(1).draw(MMomy);\n",
    "ec.cd(2).draw(MMomz);\n",
    "//ec.cd(0).draw(W);\n",
    "\n",
    "ec.getScreenShot();\n"
   ]
  },
  {
   "cell_type": "code",
   "execution_count": null,
   "metadata": {},
   "outputs": [],
   "source": [
    "//Gagik's way\n",
    "while(reader.hasNext()==true){\n",
    "    \n",
    "    reader.nextEvent(event);\n",
    "    event.read(particles);\n",
    "    \n",
    "    PhysicsEvent physEvent = DataManager.getPhysicsEvent(10.6,particles);\n",
    "    if(elecFilter.isValid(physEvent)==true){\n",
    "        nelec++;\n",
    "        electron = physEvent.getParticleByPid(11,0);\n",
    "        velectron.setPxPyPzM(electron.px(),electron.py(),electron.pz(),0.0005);\n",
    "        //velectron.setPxPyPzM(particles.getFloat(\"px\",0),particles.getFloat(\"py\",0),particles.getFloat(\"pz\",0),0.0005);\n",
    "        vW.copy(vBeam);\n",
    "        //vW.add(vTarget).sub(electron.vector());\n",
    "        vW.add(vTarget).sub(velectron);\n",
    "        W.fill(vW.mass());\n",
    "        vQ2.copy(vBeam);\n",
    "        //vQ2.sub(electron.vector());\n",
    "        vQ2.sub(velectron);\n",
    "        Q2.fill(-vQ2.mass2());\n",
    "        WvsQ2.fill(vW.mass(),-vQ2.mass2());\n",
    "        \n",
    "        if(nDVCSFilter.isValid(physEvent)==true && -vQ2.mass2()>1 && vW.mass()>2){\n",
    "            ndvcs++;\n",
    "            proton = physEvent.getParticleByPid(2212,0);\n",
    "        \n",
    "            //Xbj = (-vQ2.mass2())/(2*proton.mass()*(vBeam.p()-electron.vector().p()));\n",
    "            Xbj = (-vQ2.mass2())/(2*proton.mass()*(vBeam.p()-velectron.p()));\n",
    "    \n",
    "            //pXbj = (-vpQ2.mass2())/(2*proton.mass()*(vBeam.p()-electron.p()));\n",
    "            //     pQ2vsXbj.fill(-vpQ2.mass2(),pXbj);\n",
    "    \n",
    "\n",
    "        \n",
    "            Q2vsXbj.fill(-vQ2.mass2(),Xbj);   \n",
    "    \n",
    "            //neutron = physEvent.getParticleByPid(2112,0);\n",
    "            //ThvsPhi.fill(neutron.phi()*180./Math.PI,neutron.theta()*180./Math.PI);\n",
    "\n",
    "            //proton = physEvent.getParticleByPid(2212,0);\n",
    "            //ThvsPhi.fill(proton.phi()*180./Math.PI,proton.theta()*180./Math.PI);\n",
    "\n",
    "            //deuteron = physEvent.getParticleByPid(45,0);\n",
    "            //ThvsPhi.fill(deuteron.phi()*180/Math.PI,deuteron.theta()*180./Math.PI);\n",
    "\n",
    "\n",
    "    \n",
    "            //times++;\n",
    "            //System.out.println(\"loop has looped \" + times + \"times\");\n",
    "        \n",
    "        }\n",
    "    }\n",
    "}\n",
    "System.out.println(\"electrons  : \" + nelec);\n",
    "System.out.println(\"dvcs events: \" + ndvcs);"
   ]
  },
  {
   "cell_type": "code",
   "execution_count": null,
   "metadata": {
    "scrolled": false
   },
   "outputs": [],
   "source": [
    "//Gagik's way\n",
    "EmbeddedCanvas ec = new EmbeddedCanvas(800,400);\n",
    "ec.divide(2,1);\n",
    "ec.getPad(0).getAxisZ().setLog(true);\n",
    "ec.cd(0).draw(WvsQ2);\n",
    "ec.getPad(1).getAxisZ().setLog(true);\n",
    "ec.cd(1).draw(Q2vsXbj);\n",
    "//ec.cd(2).draw(ThvsPhi);\n",
    "//ec.cd(3).draw();\n",
    "\n",
    "ec.getScreenShot();\n"
   ]
  },
  {
   "cell_type": "code",
   "execution_count": null,
   "metadata": {},
   "outputs": [],
   "source": []
  },
  {
   "cell_type": "code",
   "execution_count": null,
   "metadata": {},
   "outputs": [],
   "source": [
    "LorentzVector  vBeam   = new LorentzVector(0.0,0.0,10.2,10.2);\n",
    "LorentzVector  vTarget = new LorentzVector(0.0,0.0,0.0,1.878);\n",
    "\n",
    "LorentzVector  vinit = new LorentzVector();\n",
    "vinit.copy(vBeam);\n",
    "vinit.add(vTarget);\n",
    "\n",
    "System.out.println(vBeam.vect().x() + \", \" + vBeam.vect().y() + \", \" + vBeam.vect().z() + \", \" +vBeam.e());\n",
    "System.out.println(vinit.vect().x() + \", \" + vinit.vect().y() + \", \" + vinit.vect().z() + \", \" +vinit.e());"
   ]
  },
  {
   "cell_type": "code",
   "execution_count": null,
   "metadata": {},
   "outputs": [],
   "source": []
  }
 ],
 "metadata": {
  "kernelspec": {
   "display_name": "Java",
   "language": "java",
   "name": "java"
  },
  "language_info": {
   "codemirror_mode": "java",
   "file_extension": ".jshell",
   "mimetype": "text/x-java-source",
   "name": "Java",
   "pygments_lexer": "java",
<<<<<<< HEAD
   "version": "11.0.3+7-Ubuntu-1ubuntu218.04.1"
=======
   "version": "11.0.3+12-LTS"
>>>>>>> 87774b4440a06a317b5e592d39d19ec8394823a3
  }
 },
 "nbformat": 4,
 "nbformat_minor": 2
}
